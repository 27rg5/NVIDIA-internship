{
 "cells": [
  {
   "cell_type": "code",
   "execution_count": null,
   "id": "54287038",
   "metadata": {},
   "outputs": [],
   "source": [
    "import tensorflow as tf\n",
    "import random\n",
    "#import tensorflow.compat.v1 as tf\n",
    "#tf.disable_v2_behavior()\n",
    "#tf.enable_eager_execution()\n",
    "#tf.compat.v1.enable_eager_execution()\n",
    "import numpy as np\n",
    "import matplotlib.pyplot as plt\n",
    "%matplotlib inline\n",
    "from tensorflow.keras.preprocessing.image import ImageDataGenerator\n",
    "from sklearn.model_selection import train_test_split\n",
    "import pandas as pd\n",
    "from pathlib import Path\n",
    "from PIL import Image\n",
    "import cv2\n",
    "import time\n",
    "import os\n",
    "import shutil"
   ]
  },
  {
   "cell_type": "code",
   "execution_count": null,
   "id": "711191ee",
   "metadata": {},
   "outputs": [],
   "source": [
    "meta_df = pd.read_csv(\"/media/raghav/vox1_meta.csv\")\n",
    "meta_df"
   ]
  },
  {
   "cell_type": "code",
   "execution_count": null,
   "id": "558012a0",
   "metadata": {},
   "outputs": [],
   "source": [
    "lms = []\n",
    "lms_path = []\n",
    "basepath = Path('/media/raghav/lms_data/')\n",
    "files_in_basepath = basepath.iterdir()\n",
    "for item in files_in_basepath:\n",
    "    item1 = str(item)\n",
    "    item1 = item1.split('/')[4]\n",
    "    lms.append(item1)\n",
    "    lms_path.append(item)\n",
    "print(lms[0])\n",
    "print(lms_path[0])"
   ]
  },
  {
   "cell_type": "code",
   "execution_count": null,
   "id": "65e681e4",
   "metadata": {},
   "outputs": [],
   "source": [
    "lms_path"
   ]
  },
  {
   "cell_type": "code",
   "execution_count": null,
   "id": "08694c14",
   "metadata": {},
   "outputs": [],
   "source": [
    "faces = []\n",
    "faces_path = []\n",
    "basepath = Path('/media/raghav/faces_data/')\n",
    "files_in_basepath = basepath.iterdir()\n",
    "for item2 in files_in_basepath:\n",
    "    item3 = str(item2)\n",
    "    item3 = item3.split('/')[4]\n",
    "    faces.append(item3)\n",
    "    faces_path.append(item2)\n",
    "print(faces[0])\n",
    "print(faces_path[0])   "
   ]
  },
  {
   "cell_type": "code",
   "execution_count": null,
   "id": "8baadb1f",
   "metadata": {},
   "outputs": [],
   "source": [
    "lms_final = []\n",
    "faces_final = []\n",
    "current_face = \"\"\n",
    "current_id = \"\"\n",
    "for i in range (0, len(meta_df)):\n",
    "    current_face = meta_df['VGGFace1 ID'][i]\n",
    "    current_id = meta_df['VoxCeleb1 ID'][i]\n",
    "    for j in range (0, len(faces)):\n",
    "        if (current_face == faces[j]):\n",
    "            lms_final.append(str(lms_path[i]))\n",
    "            faces_final.append(faces_path[j])"
   ]
  },
  {
   "cell_type": "code",
   "execution_count": null,
   "id": "96ef2151",
   "metadata": {},
   "outputs": [],
   "source": [
    "lms_path"
   ]
  },
  {
   "cell_type": "code",
   "execution_count": null,
   "id": "bb868e30",
   "metadata": {},
   "outputs": [],
   "source": [
    "data_df = pd.DataFrame({'lms' : lms_final, 'faces' : faces_final})\n",
    "data_df.head()"
   ]
  },
  {
   "cell_type": "code",
   "execution_count": null,
   "id": "59a54344",
   "metadata": {},
   "outputs": [],
   "source": [
    "data_df.to_csv('/media/raghav/final_data_path.csv', index = False)"
   ]
  },
  {
   "cell_type": "code",
   "execution_count": null,
   "id": "d91e9c9c",
   "metadata": {},
   "outputs": [],
   "source": []
  }
 ],
 "metadata": {
  "kernelspec": {
   "display_name": "Python 3 (ipykernel)",
   "language": "python",
   "name": "python3"
  },
  "language_info": {
   "codemirror_mode": {
    "name": "ipython",
    "version": 3
   },
   "file_extension": ".py",
   "mimetype": "text/x-python",
   "name": "python",
   "nbconvert_exporter": "python",
   "pygments_lexer": "ipython3",
   "version": "3.9.12"
  }
 },
 "nbformat": 4,
 "nbformat_minor": 5
}
