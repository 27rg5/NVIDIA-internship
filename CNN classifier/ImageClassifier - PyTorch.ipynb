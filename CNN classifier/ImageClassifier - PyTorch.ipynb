{
 "cells": [
  {
   "cell_type": "code",
   "execution_count": 1,
   "id": "3e4a6018",
   "metadata": {
    "id": "3e4a6018"
   },
   "outputs": [],
   "source": [
    "import torch\n",
    "import torch.nn as nn\n",
    "import torch.nn.functional as F\n",
    "import random\n",
    "import numpy as np\n",
    "import matplotlib.pyplot as plt\n",
    "import pandas as pd\n",
    "from pathlib import Path\n",
    "from PIL import Image\n",
    "import cv2\n",
    "import time\n",
    "from tqdm.notebook import tqdm_notebook\n",
    "import torchvision.datasets as datasets\n",
    "from torch.utils.data.sampler import SubsetRandomSampler\n",
    "import torchvision.transforms as transforms\n",
    "from torchsummary import summary\n",
    "import time\n",
    "from torch.autograd import Variable\n",
    "from pathlib import Path\n",
    "import shutil, os\n",
    "from tqdm import tqdm"
   ]
  },
  {
   "cell_type": "code",
   "execution_count": 3,
   "id": "1a218be6",
   "metadata": {
    "colab": {
     "base_uri": "https://localhost:8080/",
     "height": 206
    },
    "id": "1a218be6",
    "outputId": "38f210dd-dfa5-4cc7-ca10-a3913304191c"
   },
   "outputs": [
    {
     "data": {
      "text/html": [
       "<div>\n",
       "<style scoped>\n",
       "    .dataframe tbody tr th:only-of-type {\n",
       "        vertical-align: middle;\n",
       "    }\n",
       "\n",
       "    .dataframe tbody tr th {\n",
       "        vertical-align: top;\n",
       "    }\n",
       "\n",
       "    .dataframe thead th {\n",
       "        text-align: right;\n",
       "    }\n",
       "</style>\n",
       "<table border=\"1\" class=\"dataframe\">\n",
       "  <thead>\n",
       "    <tr style=\"text-align: right;\">\n",
       "      <th></th>\n",
       "      <th>lms</th>\n",
       "      <th>faces</th>\n",
       "    </tr>\n",
       "  </thead>\n",
       "  <tbody>\n",
       "    <tr>\n",
       "      <th>0</th>\n",
       "      <td>/media/raghav/spectrograms/id10003</td>\n",
       "      <td>/media/raghav/faces/Aamir_Khan</td>\n",
       "    </tr>\n",
       "    <tr>\n",
       "      <th>1</th>\n",
       "      <td>/media/raghav/spectrograms/id10004</td>\n",
       "      <td>/media/raghav/faces/Aaron_Tveit</td>\n",
       "    </tr>\n",
       "    <tr>\n",
       "      <th>2</th>\n",
       "      <td>/media/raghav/spectrograms/id10005</td>\n",
       "      <td>/media/raghav/faces/Aaron_Yoo</td>\n",
       "    </tr>\n",
       "    <tr>\n",
       "      <th>3</th>\n",
       "      <td>/media/raghav/spectrograms/id10007</td>\n",
       "      <td>/media/raghav/faces/Abigail_Breslin</td>\n",
       "    </tr>\n",
       "    <tr>\n",
       "      <th>4</th>\n",
       "      <td>/media/raghav/spectrograms/id10008</td>\n",
       "      <td>/media/raghav/faces/Abigail_Spencer</td>\n",
       "    </tr>\n",
       "  </tbody>\n",
       "</table>\n",
       "</div>"
      ],
      "text/plain": [
       "                                  lms                                faces\n",
       "0  /media/raghav/spectrograms/id10003       /media/raghav/faces/Aamir_Khan\n",
       "1  /media/raghav/spectrograms/id10004      /media/raghav/faces/Aaron_Tveit\n",
       "2  /media/raghav/spectrograms/id10005        /media/raghav/faces/Aaron_Yoo\n",
       "3  /media/raghav/spectrograms/id10007  /media/raghav/faces/Abigail_Breslin\n",
       "4  /media/raghav/spectrograms/id10008  /media/raghav/faces/Abigail_Spencer"
      ]
     },
     "execution_count": 3,
     "metadata": {},
     "output_type": "execute_result"
    }
   ],
   "source": [
    "df = pd.read_csv(r\"C:\\Users\\ragha\\Documents\\NVIDIA Internship\\final_data_path.csv\")\n",
    "df.head()"
   ]
  },
  {
   "cell_type": "code",
   "execution_count": 4,
   "id": "92074402",
   "metadata": {
    "colab": {
     "base_uri": "https://localhost:8080/"
    },
    "id": "92074402",
    "outputId": "0a3d7773-5bf1-4629-b3f9-eee8986b7ced"
   },
   "outputs": [
    {
     "data": {
      "text/plain": [
       "device(type='cuda', index=0)"
      ]
     },
     "execution_count": 4,
     "metadata": {},
     "output_type": "execute_result"
    }
   ],
   "source": [
    "device = torch.device(\"cuda\")\n",
    "device"
   ]
  },
  {
   "cell_type": "code",
   "execution_count": null,
   "id": "44c2711d",
   "metadata": {
    "id": "44c2711d",
    "outputId": "15b6f9dd-6967-44f4-fdb7-bd2853fe49ed"
   },
   "outputs": [],
   "source": [
    "'''# CREATE FACE DATASET FROM THE DATA GIVEN FOR THE FACIAL RECOGNITION MODEL\n",
    "for i in range(len(df)):\n",
    "    celeb = df['faces'][i].split(\"/\")[4]\n",
    "    celeb_source = \"C:/Users/ragha/Documents/NVIDIA Internship/VGG_ALL_FRONTAL/\" + celeb + str('/')\n",
    "    celeb_dest = 'C:/Users/ragha/Documents/NVIDIA Internship/faces_data/' + celeb\n",
    "    celeb_source_path = Path(celeb_source)\n",
    "    os.makedirs(celeb_dest)\n",
    "    files_in_celeb = celeb_source_path.iterdir()\n",
    "    for item in files_in_celeb:\n",
    "        shutil.copy(str(item), celeb_dest)'''"
   ]
  },
  {
   "cell_type": "code",
   "execution_count": 7,
   "id": "5c5192af",
   "metadata": {
    "id": "5c5192af"
   },
   "outputs": [],
   "source": [
    "transform1 = transforms.Compose([transforms.ToTensor()])\n",
    "data = datasets.ImageFolder(r\"C:\\Users\\ragha\\Documents\\NVIDIA Internship\\faces_data\", transform = transform1)\n",
    "train_split = int(np.round(0.79*len(data), decimals=0))\n",
    "val_split = int(np.round(0.01*len(data), decimals=0))\n",
    "test_split = int(np.round(0.2*len(data), decimals=0))\n",
    "train_data, val_data, test_data = torch.utils.data.random_split(data, [train_split,val_split,test_split])"
   ]
  },
  {
   "cell_type": "code",
   "execution_count": 8,
   "id": "6604ad1a",
   "metadata": {
    "id": "6604ad1a"
   },
   "outputs": [],
   "source": [
    "batch_size = 64\n",
    "train_loader = torch.utils.data.DataLoader(train_data.dataset,batch_size=batch_size,shuffle=True)\n",
    "val_loader = torch.utils.data.DataLoader(val_data.dataset,batch_size=batch_size,shuffle=True)\n",
    "test_loader = torch.utils.data.DataLoader(test_data.dataset,batch_size=batch_size,shuffle=True)"
   ]
  },
  {
   "cell_type": "code",
   "execution_count": null,
   "id": "486c9081",
   "metadata": {
    "colab": {
     "base_uri": "https://localhost:8080/"
    },
    "id": "486c9081",
    "outputId": "aac15136-32d4-4d6f-8d0c-f9a70d2d04ab"
   },
   "outputs": [],
   "source": [
    "class Face_Detector(nn.Module):\n",
    "    def __init__(self):\n",
    "        super().__init__()\n",
    "        \n",
    "        self.conv1 = nn.Conv2d(3, 64, 5)\n",
    "        self.pool = nn.MaxPool2d(2,2)\n",
    "        self.act1 = nn.ReLU()\n",
    "        self.conv2 = nn.Conv2d(64, 128, 5)\n",
    "        self.conv3 = nn.Conv2d(128, 256, 5) \n",
    "        self.conv4 = nn.Conv2d(256, 64, 5)\n",
    "        self.flat = nn.Flatten()\n",
    "        self.fc1 = nn.Linear(43264, 1225)        \n",
    "        \n",
    "    def forward(self, x):\n",
    "        x = self.act1(self.conv1(x))\n",
    "        x = self.pool(self.act1(self.conv2(x)))\n",
    "        x = self.act1(self.conv3(x))\n",
    "        x = self.pool(self.act1(self.conv4(x)))\n",
    "        x = self.flat(x)\n",
    "        x = self.fc1(x)\n",
    "\n",
    "        return x\n",
    "    \n",
    "face_detector = Face_Detector().to(device)\n",
    "face_detector"
   ]
  },
  {
   "cell_type": "code",
   "execution_count": null,
   "id": "a24c7205",
   "metadata": {
    "id": "a24c7205"
   },
   "outputs": [],
   "source": [
    "optimizer = torch.optim.Adam(face_detector.parameters(), lr = 0.001)\n",
    "loss_function = nn.CrossEntropyLoss()"
   ]
  },
  {
   "cell_type": "code",
   "execution_count": null,
   "id": "74e7d8b6",
   "metadata": {
    "colab": {
     "base_uri": "https://localhost:8080/",
     "height": 356
    },
    "id": "74e7d8b6",
    "outputId": "fce53864-b3f3-4a37-e8a5-c802513740c8"
   },
   "outputs": [],
   "source": [
    "def train(face_detector):\n",
    "    \n",
    "    img_size = 128\n",
    "    epochs = 300\n",
    "    batch_size = 64\n",
    "    \n",
    "    train_loss = []\n",
    "    train_acc = []\n",
    "    valid_loss = []\n",
    "    valid_acc = []\n",
    "    count = 0\n",
    "\n",
    "    last_loss = 1000\n",
    "    patience = 2\n",
    "    triggertimes = 0\n",
    "\n",
    "    for iteration in range(epochs):\n",
    "\n",
    "        start_time = time.time()\n",
    "        train_batch_loss = []\n",
    "        train_batch_acc = []\n",
    "        valid_batch_loss = []\n",
    "        valid_batch_acc = []\n",
    "        \n",
    "        for batch_X, batch_y in tqdm(train_loader):\n",
    "            \n",
    "            batch_X, batch_y = batch_X.to(device), batch_y.to(device)\n",
    "\n",
    "            face_detector.zero_grad()\n",
    "\n",
    "            outputs = face_detector(batch_X)\n",
    "            outputs = outputs.to(device)\n",
    "            \n",
    "            matches  = [torch.argmax(x)==y for x, y in zip(outputs, batch_y)]\n",
    "            train_batch_acc.append(matches.count(True)/len(matches))\n",
    "            \n",
    "            loss = loss_function(outputs, batch_y)\n",
    "            train_batch_loss.append(loss.item())\n",
    "            loss.backward()\n",
    "            optimizer.step()\n",
    "            \n",
    "        with torch.no_grad():\n",
    "            for batch_X, batch_y in tqdm(val_loader):\n",
    "            \n",
    "                batch_X, batch_y = batch_X.to(device), batch_y.to(device)\n",
    "\n",
    "                outputs = face_detector(batch_X)\n",
    "                outputs = outputs.to(device)\n",
    "\n",
    "                matches  = [torch.argmax(x)==y for x, y in zip(outputs, batch_y)]\n",
    "                valid_batch_acc.append(matches.count(True)/len(matches))\n",
    "\n",
    "                loss = loss_function(outputs, batch_y)\n",
    "                valid_batch_loss.append(loss.item())\n",
    "                \n",
    "        end_time = time.time()\n",
    "        time_taken = end_time-start_time\n",
    "        \n",
    "        train_loss.append(sum(train_batch_loss)/len(train_batch_loss))\n",
    "        train_acc.append((sum(train_batch_acc)/len(train_batch_acc))*100)\n",
    "        valid_loss.append(sum(valid_batch_loss)/len(valid_batch_loss))\n",
    "        valid_acc.append((sum(valid_batch_acc)/len(valid_batch_acc))*100)\n",
    "\n",
    "        current_loss = sum(valid_batch_loss)/len(valid_batch_loss)\n",
    "\n",
    "        if current_loss > last_loss:\n",
    "            trigger_times += 1\n",
    "            print('Trigger Times:', trigger_times)\n",
    "\n",
    "            if trigger_times >= patience:\n",
    "                print('Early stopping!')\n",
    "                return train_loss, valid_loss, train_acc, valid_acc\n",
    "                \n",
    "        else:\n",
    "            trigger_times = 0\n",
    "\n",
    "        last_loss = current_loss\n",
    "\n",
    "        print(\"Epoch -\", count+1)\n",
    "        print(\"Time taken -\", time_taken, \"seconds\")\n",
    "        print(\"Train Loss -\", train_loss[count], \"---- Train Accuracy -\", train_acc[count])\n",
    "        print(\"Validation Loss -\", valid_loss[count], \"---- Validation Accuracy -\", valid_acc[count], \"\\n\")\n",
    "\n",
    "        torch.save({\n",
    "            'epoch': iteration+1,\n",
    "            'model_state_dict': face_detector.state_dict(),\n",
    "            'optimizer_state_dict': optimizer.state_dict(),\n",
    "            'loss': train_loss[count],\n",
    "            }, '/content/drive/MyDrive')\n",
    "        \n",
    "        count = count+1\n",
    "        \n",
    "    return train_loss, valid_loss, train_acc, valid_acc\n",
    "        \n",
    "train_loss, valid_loss, train_acc, valid_acc = train(face_detector)"
   ]
  },
  {
   "cell_type": "code",
   "execution_count": null,
   "id": "HHB9Bt9bFGz1",
   "metadata": {
    "colab": {
     "base_uri": "https://localhost:8080/"
    },
    "id": "HHB9Bt9bFGz1",
    "outputId": "058a794a-3146-4188-af0e-05846f7f8c80"
   },
   "outputs": [],
   "source": [
    "torch.save(face_detector.state_dict(), '/content/drive/MyDrive/face_detector_model.pt')"
   ]
  },
  {
   "cell_type": "code",
   "execution_count": null,
   "id": "1e76589e",
   "metadata": {
    "id": "1e76589e"
   },
   "outputs": [],
   "source": [
    "test_batch_acc = []\n",
    "\n",
    "with torch.no_grad():\n",
    "    for batch_X, batch_y in tqdm(test_loader):\n",
    "\n",
    "        batch_X, batch_y = batch_X.to(device), batch_y.to(device)\n",
    "\n",
    "        outputs = face_detector(batch_X)\n",
    "        outputs = outputs.to(device)\n",
    "\n",
    "        matches  = [torch.argmax(x)==y for x, y in zip(outputs, batch_y)]\n",
    "        test_batch_acc.append(matches.count(True)/len(matches))\n",
    "        \n",
    "print(\"Test accuracy -\", (sum(test_batch_acc)/len(test_batch_acc))*100)"
   ]
  }
 ],
 "metadata": {
  "accelerator": "GPU",
  "colab": {
   "name": "PYTORCH-2.ipynb",
   "provenance": []
  },
  "kernelspec": {
   "display_name": "Python 3 (ipykernel)",
   "language": "python",
   "name": "python3"
  },
  "language_info": {
   "codemirror_mode": {
    "name": "ipython",
    "version": 3
   },
   "file_extension": ".py",
   "mimetype": "text/x-python",
   "name": "python",
   "nbconvert_exporter": "python",
   "pygments_lexer": "ipython3",
   "version": "3.9.12"
  }
 },
 "nbformat": 4,
 "nbformat_minor": 5
}
