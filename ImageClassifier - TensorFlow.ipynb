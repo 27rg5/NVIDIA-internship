{
 "cells": [
  {
   "cell_type": "code",
   "execution_count": null,
   "id": "1e9b220c",
   "metadata": {},
   "outputs": [],
   "source": [
    "import tensorflow as tf\n",
    "import numpy as np\n",
    "import matplotlib.pyplot as plt\n",
    "%matplotlib inline\n",
    "from tensorflow.keras.preprocessing.image import ImageDataGenerator\n",
    "from sklearn.model_selection import train_test_split\n",
    "from sklearn.preprocessing import OneHotEncoder\n",
    "from sklearn.utils import shuffle\n",
    "from sklearn.metrics import accuracy_score\n",
    "import pandas as pd\n",
    "from pathlib import Path\n",
    "from PIL import Image\n",
    "import cv2\n",
    "import time\n",
    "import os\n",
    "from tensorflow import keras\n",
    "from tensorflow.keras.preprocessing import image_dataset_from_directory\n",
    "import random\n",
    "import shutil"
   ]
  },
  {
   "cell_type": "code",
   "execution_count": null,
   "id": "bc6abef0",
   "metadata": {},
   "outputs": [],
   "source": [
    "count = 0\n",
    "data = []\n",
    "test_data_path = []\n",
    "basepath = Path('faces_data/')\n",
    "files_in_basepath = basepath.iterdir()\n",
    "for item in files_in_basepath:\n",
    "    files_in_subpath = item.iterdir()\n",
    "    for item1 in files_in_subpath:\n",
    "        data.append(item1)\n",
    "    random.shuffle(data)\n",
    "    test_data_path.append(data[0:int(np.round((0.1 * len(data))))])\n",
    "    data = []\n",
    "test_data_path = list(np.concatenate(test_data_path).flat)"
   ]
  },
  {
   "cell_type": "code",
   "execution_count": null,
   "id": "34f7b7d3",
   "metadata": {},
   "outputs": [],
   "source": [
    "test_data = []\n",
    "test_labels = []\n",
    "count = 0\n",
    "for face in test_data_path:\n",
    "    count = count+1\n",
    "    path = str(Path(face))\n",
    "    test_data.append(cv2.imread(path)[:,:,::-1])\n",
    "    test_labels.append(str(face).split('/')[1])\n",
    "    #shutil.move(path, 'test_data_face/' + str(count) + '.jpg')\n",
    "test_data = np.array(test_data)\n",
    "test_data = (test_data-127.5)/127.5"
   ]
  },
  {
   "cell_type": "code",
   "execution_count": null,
   "id": "59629645",
   "metadata": {},
   "outputs": [],
   "source": [
    "np.shape(test_data)"
   ]
  },
  {
   "cell_type": "code",
   "execution_count": null,
   "id": "353e847d",
   "metadata": {},
   "outputs": [],
   "source": [
    "train_data = image_dataset_from_directory(\n",
    "    directory='faces_data/',\n",
    "    labels='inferred',\n",
    "    label_mode='categorical',\n",
    "    subset=\"training\",\n",
    "    validation_split = 0.1,\n",
    "    seed=123,\n",
    "    batch_size=64,\n",
    "    image_size=(128, 128))"
   ]
  },
  {
   "cell_type": "code",
   "execution_count": null,
   "id": "36822a8d",
   "metadata": {},
   "outputs": [],
   "source": [
    "validation_data = image_dataset_from_directory(\n",
    "    directory='faces_data/',\n",
    "    labels='inferred',\n",
    "    label_mode='categorical',\n",
    "    subset=\"validation\",\n",
    "    validation_split = 0.1,\n",
    "    seed=123,\n",
    "    batch_size=64,\n",
    "    image_size=(128, 128))"
   ]
  },
  {
   "cell_type": "code",
   "execution_count": null,
   "id": "916cedcd",
   "metadata": {},
   "outputs": [],
   "source": [
    "classes = train_data.class_names"
   ]
  },
  {
   "cell_type": "code",
   "execution_count": null,
   "id": "155739fa",
   "metadata": {},
   "outputs": [],
   "source": [
    "AUTOTUNE = tf.data.AUTOTUNE\n",
    "train_data = train_data.cache().prefetch(buffer_size=AUTOTUNE)\n",
    "validation_data = validation_data.cache().prefetch(buffer_size=AUTOTUNE)"
   ]
  },
  {
   "cell_type": "code",
   "execution_count": null,
   "id": "d8129295",
   "metadata": {},
   "outputs": [],
   "source": [
    "strategy = tf.distribute.MirroredStrategy()\n",
    "print('Number of devices: {}'.format(strategy.num_replicas_in_sync))"
   ]
  },
  {
   "cell_type": "code",
   "execution_count": null,
   "id": "5cc0a67e",
   "metadata": {
    "scrolled": false
   },
   "outputs": [],
   "source": [
    "with strategy.scope():\n",
    "\n",
    "    model = tf.keras.Sequential()\n",
    "    model.add(tf.keras.layers.InputLayer(input_shape=(128,128,3)))\n",
    "    model.add(tf.keras.layers.Rescaling(1./127.5, offset=-1))\n",
    "    model.add(tf.keras.applications.ResNet50(include_top = False, weights = 'imagenet', pooling = 'max', input_shape= (128,128,3)))\n",
    "    model.add(tf.keras.layers.Dropout(0.5))\n",
    "    model.add(tf.keras.layers.Dense(1225, activation = 'softmax'))\n",
    "    model.add(tf.keras.layers.Dropout(0.5))\n",
    "    model.summary()\n",
    "    \n",
    "    model.compile(optimizer=tf.keras.optimizers.Adam(learning_rate = 0.0001), loss='categorical_crossentropy', metrics=['accuracy'])"
   ]
  },
  {
   "cell_type": "code",
   "execution_count": null,
   "id": "3e2b0e78",
   "metadata": {
    "scrolled": true
   },
   "outputs": [],
   "source": [
    "import wandb\n",
    "wandb.init()"
   ]
  },
  {
   "cell_type": "code",
   "execution_count": null,
   "id": "ce665904",
   "metadata": {},
   "outputs": [],
   "source": [
    "early_stopping = tf.keras.callbacks.EarlyStopping(monitor='val_accuracy', mode = 'max', patience = 3)\n",
    "\n",
    "history = model.fit(train_data, epochs=100, batch_size = 64, validation_data = validation_data, callbacks = [early_stopping], verbose=1)"
   ]
  },
  {
   "cell_type": "code",
   "execution_count": null,
   "id": "d2eaf9cd",
   "metadata": {},
   "outputs": [],
   "source": [
    "history_df = pd.DataFrame(history.history)\n",
    "history_df.head()"
   ]
  },
  {
   "cell_type": "code",
   "execution_count": null,
   "id": "80a45577",
   "metadata": {},
   "outputs": [],
   "source": [
    "# plotting training and validation loss\n",
    "plt.title('Loss')\n",
    "plt.plot(history_df['loss'], label = 'Training loss')\n",
    "plt.plot(history_df['val_loss'], label = 'Validation loss')\n",
    "plt.legend()\n",
    "plt.show()"
   ]
  },
  {
   "cell_type": "code",
   "execution_count": null,
   "id": "035ac556",
   "metadata": {},
   "outputs": [],
   "source": [
    "# plotting training and validation accuracy\n",
    "plt.title('Accuracy')\n",
    "plt.plot(history_df['accuracy'], label = 'Training accuracy')\n",
    "plt.plot(history_df['val_accuracy'], label = 'Validation accuracy')\n",
    "#plt.ylim(0,1)\n",
    "plt.legend()\n",
    "plt.show()"
   ]
  },
  {
   "cell_type": "code",
   "execution_count": null,
   "id": "1b3c6edd",
   "metadata": {},
   "outputs": [],
   "source": [
    "model.save('/home/raghav/Downloads/classifier.h5')"
   ]
  },
  {
   "cell_type": "code",
   "execution_count": null,
   "id": "31549315",
   "metadata": {},
   "outputs": [],
   "source": [
    "'''my_model = tf.keras.models.load_model('/home/raghav/Downloads/classifier.h5')'''"
   ]
  },
  {
   "cell_type": "code",
   "execution_count": null,
   "id": "96e637b2",
   "metadata": {},
   "outputs": [],
   "source": [
    "predY = model.predict(testX)\n",
    "predY = np.round(predY, decimals = 0)\n",
    "accuracy = accuracy_score(testY, predY)\n",
    "print(\"Test accuracy - \", (accuracy*100))"
   ]
  },
  {
   "cell_type": "code",
   "execution_count": null,
   "id": "c2fb49f8",
   "metadata": {},
   "outputs": [],
   "source": [
    "data_df = pd.read_csv(\"final_data_path.csv\")\n",
    "data_df"
   ]
  },
  {
   "cell_type": "code",
   "execution_count": null,
   "id": "13b7cddf",
   "metadata": {},
   "outputs": [],
   "source": []
  }
 ],
 "metadata": {
  "kernelspec": {
   "display_name": "Python 3 (ipykernel)",
   "language": "python",
   "name": "python3"
  },
  "language_info": {
   "codemirror_mode": {
    "name": "ipython",
    "version": 3
   },
   "file_extension": ".py",
   "mimetype": "text/x-python",
   "name": "python",
   "nbconvert_exporter": "python",
   "pygments_lexer": "ipython3",
   "version": "3.9.12"
  }
 },
 "nbformat": 4,
 "nbformat_minor": 5
}
